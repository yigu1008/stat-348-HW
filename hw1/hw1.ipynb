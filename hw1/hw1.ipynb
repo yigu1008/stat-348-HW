{
  "cells": [
    {
      "attachments": {},
      "cell_type": "markdown",
      "metadata": {},
      "source": [
        "# **Homework 1:** The Hunt for the USS Scorpion (Part I)\n",
        "## Likelihood and prior odds, risk, decision theory, and intro to Python\n",
        "STATS348, UChicago, Spring 2023\n",
        "\n",
        "----------------\n",
        "**Your name here:**\n",
        "\n",
        "----------------\n",
        "\n",
        "<a href=\"https://colab.research.google.com/github/aschein/stat_348/blob/main/assignments/hw1/hw1.ipynb\" target=\"_parent\"><img src=\"https://colab.research.google.com/assets/colab-badge.svg\" alt=\"Open In Colab\"/></a>\n",
        "\n",
        "---"
      ]
    },
    {
      "attachments": {},
      "cell_type": "markdown",
      "metadata": {},
      "source": [
        "## Instructions\n",
        "\n",
        "The purpose of this homework is to:\n",
        "\n",
        "* introduce you to Python in Jupyter notebooks\n",
        "* setup the story of the USS Scorpion, which we will build on in future homeworks\n",
        "* practice some foundational ideas in Bayesian decision/search theory\n",
        "\n",
        "We have written and coded a lot of this homework to provide you with structure and examples. \n",
        "\n",
        "Please read through it carefully and provide answers to questions where marked. \n",
        "\n",
        "Good hunting! "
      ]
    },
    {
      "attachments": {},
      "cell_type": "markdown",
      "metadata": {},
      "source": [
        "## Setting\n",
        "\n",
        "It is May 1968 and the USS _Scorpion_ has just disappeared somewhere in the Atlantic Ocean, likely off the coast of Spain. You are the lone statistician on board the USS _Mizar_, which has been dispatched to find the missing submarine. Your job is to guide the search as best you can, given the data at your disposal.\n",
        "\n",
        "Before doing anything else, you should import some useful Python libraries."
      ]
    },
    {
      "cell_type": "code",
      "execution_count": 5,
      "metadata": {},
      "outputs": [],
      "source": [
        "# library for dataframes\n",
        "import pandas as pd\n",
        "\n",
        "# scientific computing libraries\n",
        "import numpy as np\n",
        "import numpy.random as rn\n",
        "import scipy.stats as st\n",
        "\n",
        "# plotting libraries\n",
        "import matplotlib.pyplot as plt\n",
        "import seaborn as sns"
      ]
    },
    {
      "attachments": {},
      "cell_type": "markdown",
      "metadata": {},
      "source": [
        "## Magnetometer measurements\n",
        "The _Mizar_ is pulling a magnetometer behind it underwater as it searches. A magnetometer is an instrument that measures magnetic field in units of nanoTesla (nT). When a magnetometer is nearby a large metal object, like a missing submarine, it (should) produce large values. \n",
        "\n",
        "The technician has informed you when there is no large metal object nearby ($Z=0$), the measurements are exponentially distributed:\n",
        "\n",
        "\\begin{align}\n",
        "P(y_1,\\dots,y_n \\mid Z=0) = \\prod_{i=1}^n \\textrm{Expon}(y_i;\\,\\alpha_0)\n",
        "\\end{align}\n",
        "\n",
        "The _scale_ parameter $\\alpha_0=1$ has been tuned for you to match the background noise in the ocean.\n",
        "\n",
        "The following function implements the **log likelihood** for the null ($Z=0$) model described above. It uses the [scipy.stats](https://docs.scipy.org/doc/scipy/reference/stats.html) library, which contains many useful functions for probability and statistics."
      ]
    },
    {
      "cell_type": "code",
      "execution_count": 72,
      "metadata": {},
      "outputs": [],
      "source": [
        "def magnetometer_null_log_likelihood(data, alpha0=1.0):\n",
        "    \"\"\"Calculate the log likelihood under the null (Z=0) model.\n",
        "    \n",
        "    Args:\n",
        "        data (array-like): Data to calculate the likelihood for.\n",
        "        alpha0 (float): Shape parameter of the exponential distribution.\n",
        "                        Default: 1.0 (tuned to match background noise in ocean.\n",
        "    \n",
        "    Returns:\n",
        "        float: Log likelihood of the data under the null model.\n",
        "    \"\"\"\n",
        "    return st.expon(scale=alpha0).logpdf(data).sum()"
      ]
    },
    {
      "attachments": {},
      "cell_type": "markdown",
      "metadata": {},
      "source": [
        "The technician has further informed you that in previous trials, under controlled settings where the distance to a large metal object is known, the measurements are exponentially distributed, with scale parameter that depends on distance $D$ to the object \n",
        "\n",
        "\\begin{align}\n",
        "\\underbrace{P(y_i \\mid Z=1, D_i)}_{\\textrm{complete data likelihood}}= \\textrm{Expon}(y_i;\\,\\underbrace{\\alpha_0 + \\alpha D_i^{-3}}_{\\textrm{scale parameter}})\n",
        "\\end{align}\n",
        "\n",
        "The coefficient $\\alpha$ has been tuned for our purposes to take into account the size and shape of the _Scorpion_, $\\alpha=1.23$.\n",
        "\n",
        "This is the ``complete data likelihood'' since it depends on distance which, in practice, we do not observe. Instead, we would like to work with the marginal likelihood:\n",
        "\n",
        "\\begin{align}\n",
        "\\underbrace{P(y_i \\mid Z=1)}_{\\textrm{marginal data likelihood}}= \\int P(y_i \\mid Z=1, D_i) \\, P(D_i) \\,dD_i \n",
        "\\end{align}\n",
        "\n",
        "We don't know where the Mizar was in the (1mi x 1mi) cell when it took each measurement, and don't know where the Scorpion is either, so appealing to the ``principle of insufficient reason'', we will define our prior $P(D_i)$ to be based on the **distribution of distance between two points drawn uniformly at random in a square**. \n",
        "\n",
        "We provide a function to sample from this distribution and plot a histogram below."
      ]
    },
    {
      "cell_type": "code",
      "execution_count": 128,
      "metadata": {},
      "outputs": [
        {
          "data": {
            "image/png": "[encoded data removed]",
            "text/plain": [
              "<Figure size 640x480 with 1 Axes>"
            ]
          },
          "metadata": {},
          "output_type": "display_data"
        }
      ],
      "source": [
        "def sample_distance_in_cell(size=1):\n",
        "    \"\"\"Sample the distance in km between the USS Mizar and the USS Scorpion in the (1mi x 1mi) cell.\n",
        "\n",
        "        - This accounts for 0.25km of average ocean depth\n",
        "\n",
        "    Args:\n",
        "        size (int): Number of samples to generate. Default: 1.\n",
        "    \n",
        "    Returns:\n",
        "        array-like: Samples of the distance in kilometers between two points in the (1mi x 1mi) cell.\n",
        "    \"\"\"\n",
        "    mi_to_km = 1.60934\n",
        "    coords_mizar = mi_to_km * st.uniform.rvs(size=(size, 2)) # the (x,y) coordinates of the mizar\n",
        "    coords_scorp = mi_to_km * st.uniform.rvs(size=(size, 2)) # the (x,y) coordinates of the scorpion\n",
        "\n",
        "    distance = np.sqrt(0.25 + np.sum((coords_mizar - coords_scorp) ** 2, axis=1))\n",
        "    return distance\n",
        "\n",
        "rn.seed(617)  # do not change this line!\n",
        "n_samples = 100000\n",
        "distances = sample_distance_in_cell(size=n_samples)\n",
        "_ = plt.hist(distances, bins=20, density=True)\n",
        "_ = plt.xlabel('Distance (km)')\n",
        "_ = plt.ylabel('Density')\n",
        "_ = plt.title('Distance between Mizar and Scorpion in cell')\n"
      ]
    },
    {
      "attachments": {},
      "cell_type": "markdown",
      "metadata": {},
      "source": [
        "## Approximation\n",
        "Instead of trying to form the marginal likelihood analytically, we will approximate it as\n",
        "\\begin{align}\n",
        "\\underbrace{P(y_i \\mid Z=1)}_{\\textrm{marginal data likelihood}}= \\int P(y_i \\mid Z=1, D_i) \\, P(D_i) \\,dD_i \\approx \\sum_{k=1}^K P(y_i \\mid Z=1, D=d_k) \\, \\pi_k\n",
        "\\end{align}\n",
        "where here we have a discrete set of distances $\\{d_k\\}_{k=1}^K$, each corresponding to a probability $\\pi_k$ where $\\sum_{k=1}^K \\pi_k=1$. "
      ]
    },
    {
      "attachments": {},
      "cell_type": "markdown",
      "metadata": {},
      "source": [
        "## Question 1 [Write] (10pts):\n",
        "We provide a way to construct $\\{d_k\\}_{k=1}^K$ and $\\{\\pi_k\\}_{k=1}^K$ from samples below. \n",
        "\n",
        "Take time to review each line, and then provide a description of what the function is doing. \n",
        "\n",
        "Your answer should include: \n",
        "\n",
        "* a high-level description of the algorithm\n",
        "* explanations of what the numpy functions `linspace` and `histogram` are doing\n",
        "* what the special indexing `[:-1]` and `[1:]` is doing\n",
        "* what the output of the function is in terms of the math above\n",
        "\n",
        "----------------\n",
        "**Your answer here:**\n",
        "\n",
        "\n",
        "\n",
        "\n",
        "----------------"
      ]
    },
    {
      "cell_type": "code",
      "execution_count": 129,
      "metadata": {},
      "outputs": [
        {
          "data": {
            "image/png": "[encoded data removed]",
            "text/plain": [
              "<Figure size 640x480 with 1 Axes>"
            ]
          },
          "metadata": {},
          "output_type": "display_data"
        }
      ],
      "source": [
        "def discrete_approximation(samples, K):\n",
        "    bins = np.linspace(np.min(samples), np.max(samples), K+1)\n",
        "    counts, _ = np.histogram(samples, bins=bins)\n",
        "    probabilities = counts / counts.sum()\n",
        "    bin_centers = (bins[:-1] + bins[1:]) / 2\n",
        "    return bin_centers, probabilities\n",
        "\n",
        "distances = sample_distance_in_cell(size=10000)\n",
        "bin_centers, probabilities = discrete_approximation(distances, K=25)\n",
        "_ = plt.stem(bin_centers, probabilities, use_line_collection=True)\n"
      ]
    },
    {
      "attachments": {},
      "cell_type": "markdown",
      "metadata": {},
      "source": [
        "## Question 2a [Code] (20pts):\n",
        "\n",
        "Use the discrete approximation above to implement the approximate marginal likelihood for $Z=1$. For a single data-point that is:\n",
        "\n",
        "\\begin{align}\n",
        "P(y_i \\mid Z=1) \\approx \\sum_{k=1}^K \\textrm{Expon}(y_i; \\alpha_0 + \\alpha d_k^{-1}) \\pi_k\n",
        "\\end{align}\n",
        "\n",
        "where recall that $\\alpha_0=1$ and $\\alpha = 1.23$. \n",
        "\n",
        "Your function should accept multiple data points $y_1,\\dotsm,y_n$ and return the **log approximate marginal likelihood**:\n",
        "\n",
        "\\begin{equation}\n",
        "\\log P(y_1,\\dots,y_n \\mid Z=1) \\approx \\sum_{i=1}^n \\log \\sum_{k=1}^K \\textrm{Expon}(y_i; \\alpha_0 + \\alpha d_k^{-1}) \\pi_k\n",
        "\\end{equation}"
      ]
    },
    {
      "cell_type": "code",
      "execution_count": 53,
      "metadata": {},
      "outputs": [],
      "source": [
        "def magnetometer_log_approx_marginal_likelihood(data, distances, pi, alpha=1.23, alpha0=1.0):\n",
        "    \"\"\"Calculate the log approximate marginal likelihood under the (Z=1) model.\n",
        "    \n",
        "       Args:\n",
        "        data (array-like): Data to calculate the likelihood for.\n",
        "        distances (array-like): Distance d_k values in the discrete approximation.\n",
        "        pi (array-like): Probability pi_k values in the discrete approximation.\n",
        "        alpha (float): Coefficient on distance.\n",
        "                       Default: 1.23 (tuned to match Scorpion).\n",
        "        alpha0 (float): Background noise level.\n",
        "                        Default: 1.0 (tuned to match background noise in ocean).\n",
        "    \n",
        "    Returns:\n",
        "        float: Log approximate marginal likelihood of the data under the (Z=1) model.\n",
        "    \"\"\"\n",
        "\n",
        "    # Your code here #"
      ]
    },
    {
      "attachments": {},
      "cell_type": "markdown",
      "metadata": {},
      "source": [
        "## Question 2b [Code] (10pts):\n",
        "\n",
        "Implement a function that computes the likelihood odds (LO) ratio for an input set of data\n",
        "\n",
        "\\begin{equation}\n",
        "\\textrm{LO}(y_1,\\dots,y_n) = \\frac{P(y_1,\\dots,y_n \\mid Z=1)}{P(y_1,\\dots,y_n \\mid Z=0)}\n",
        "\\end{equation}\n",
        "\n",
        "Your function should call the functions\n",
        "* `magnetometer_null_log_likelihood`\n",
        "* `magnetometer_log_approx_marginal_likelihood`\n",
        "\n",
        "Your function should take `data` as an argument. If you add other arguments, then add a description of them in the docstring."
      ]
    },
    {
      "cell_type": "code",
      "execution_count": null,
      "metadata": {},
      "outputs": [],
      "source": [
        "def magnetometer_likelihood_odds(data):\n",
        "    \"\"\"Calculate the likelihood odds ratio for the magnetometer data.\n",
        "    \n",
        "    Args:\n",
        "        data (array-like): Data to calculate the likelihood odds for.\n",
        "\n",
        "        OTHER ARGS: You may need to add other arguments to this function.\n",
        "    \n",
        "    Returns:\n",
        "        float: Likelihood odds.\n",
        "    \"\"\"\n",
        "    \n",
        "    # Your code here #"
      ]
    },
    {
      "attachments": {},
      "cell_type": "markdown",
      "metadata": {},
      "source": [
        "## Question 2c [Write] (5pts):\n",
        "\n",
        "Run the following code to calculate the likelihood odds on the magnetometer data that just arrived. \n",
        "\n",
        "* Explain what the data say about the hypothesis $Z=1$.\n",
        "\n",
        "----------------\n",
        "**Your answer here:**\n",
        "\n",
        "----------------\n",
        "\n",
        "* Explain what the data say about the hypothesis $Z=1$ when also taking into account the Captain's prior odds of 1/20.\n",
        "\n",
        "----------------\n",
        "**Your answer here:**\n",
        "\n",
        "----------------"
      ]
    },
    {
      "cell_type": "code",
      "execution_count": null,
      "metadata": {},
      "outputs": [],
      "source": [
        "data = np.load('magnetometer_data.npy')\n",
        "print('Likelihood odds: {:.2f}'.format(magnetometer_likelihood_odds(data, bin_centers, probabilities)))"
      ]
    },
    {
      "attachments": {},
      "cell_type": "markdown",
      "metadata": {},
      "source": [
        "## Do we send the divers?\n",
        "In this problem, we will use Bayesian decision theory to make a principled decision about whether to send divers to search for the Scorpion. Our decision will integrate \n",
        "* the likelihood odds of the magnetometer data\n",
        "* the Captain's prior odds\n",
        "* our loss function\n",
        "* the ``Search effectiveness probability''\n",
        "\n",
        "## Question 3a [Math] (20pts)\n",
        "\n",
        "Recall that our loss function $\\ell(a,z)$ is a function of whether or not we search $a=0,1$ and whether or not the Scorpion is in the cell $z=0,1$.\n",
        "\n",
        "|  $\\ell(a,z)$ | $z=0$ | $z=1$ |\n",
        "| ----- | -------- | -------- |\n",
        "| $a=0$ | $L_{\\textrm{TN}}$   | $L_{\\textrm{FN}}$   |\n",
        "| $a=1$ | $L_{\\textrm{FP}}$   | $L_{\\textrm{TP}}$   |\n",
        "\n",
        "Further recall that the ``search effectiveness probability'' (SEP) is $q = P(\\tilde{Z}=1 \\mid Z=1, a=1)$ where $\\tilde{Z}=1$ denotes successfully finding the Scorpion and $\\tilde{Z}=0$ denotes failing to find it. Incorporating the SEP into our decision problem effectively means re-defining the loss associated with the true positive cell $L_{\\textrm{TP}}$ in terms of losses associated with \"successful\" and \"failed\" true positives:\n",
        "\n",
        "\\begin{equation}\n",
        "L_{\\textrm{TP}} = q L_{\\textrm{STP}} + (1-q) L_{\\textrm{FTP}} \n",
        "\\end{equation}\n",
        "\n",
        "Finally, recall the definition of **Bayesian expected loss**:\n",
        "\\begin{equation}\n",
        "\\rho(\\pi^*, a) = E_{Z \\sim \\pi^*}[\\ell(a,Z)]\n",
        "\\end{equation}\n",
        "where the expectation is with respect to our posterior distribution $\\pi^* = P(Z=1\\mid y_1, \\dots, y_n)$.\n",
        "\n",
        "**Derive the threshold $T$ on the likelihood odds, which if exceeded means that we should send the divers:**\n",
        "\n",
        "\\begin{align}\n",
        "a^* = \\begin{cases}\n",
        "1 &\\textrm{if } \\frac{P(y_1,\\dots,y_n \\mid Z=1)}{P(y_1,\\dots,y_n \\mid Z=0)} > T \\\\\n",
        "0 &\\textrm{otherwise }\n",
        "\\end{cases}\n",
        "\\end{align}\n",
        "\n",
        "----------------\n",
        "**Your answer here:**\n",
        "\n",
        "----------------"
      ]
    },
    {
      "attachments": {},
      "cell_type": "markdown",
      "metadata": {},
      "source": [
        "## Question 3b [Code] (10pts)\n",
        "\n",
        "Implement a function that calculates this threshold. \n",
        "\n",
        "Your function should take as an argument a loss function which is a Python dictionary (as shown below)."
      ]
    },
    {
      "cell_type": "code",
      "execution_count": 288,
      "metadata": {},
      "outputs": [],
      "source": [
        "loss_func = {\n",
        "    'TN': 1,  # true negative\n",
        "    'FP': 25, # false positive\n",
        "    'FN': 100, # false negative\n",
        "    'STP': 1, # successful true positive\n",
        "    'FTP': 10 # failed true positive\n",
        "             }\n",
        "\n",
        "def likelihood_odds_threshhold(loss_func, prior_odds, sep):\n",
        "    \"\"\"Calculate the likelihood odds threshold for a given loss function and prior odds.\n",
        "    \n",
        "    Args:\n",
        "        loss_func (dict): Dictionary of loss values.\n",
        "        prior_odds (float): Prior odds.\n",
        "        sep (float): Search effectiveness probability.\n",
        "    \"\"\"\n",
        "    \n",
        "    # Your code here"
      ]
    },
    {
      "attachments": {},
      "cell_type": "markdown",
      "metadata": {},
      "source": [
        "## Question 3c [Write] (10pts)\n",
        "\n",
        "Using the likelihood odds of the magnetometer data, the Captain's prior odds of $\\tfrac{1}{20}$, and a SEP of $0.75$, and the loss function given below, use your code to answer the question: **should we send the divers?**\n",
        "\n",
        "----------------\n",
        "**Your answer here:**\n",
        "\n",
        "----------------"
      ]
    },
    {
      "cell_type": "code",
      "execution_count": null,
      "metadata": {},
      "outputs": [],
      "source": [
        "loss_func = {\n",
        "    'TN': 1,  # true negative\n",
        "    'FP': 15, # false positive\n",
        "    'FN': 25, # false negative\n",
        "    'STP': 1, # successful true positive\n",
        "    'FTP': 10 # failed true positive\n",
        "             }\n",
        "\n",
        "# Your code here\n"
      ]
    },
    {
      "attachments": {},
      "cell_type": "markdown",
      "metadata": {},
      "source": [
        "## Question 3d [Write] (15pts)\n",
        "\n",
        "Explore some of the parameter settings (e.g., loss function, SEP, prior) and find a setting that changes your answer. Explain what the parameter changes are, and why they change the answer. Show the code below that led to your conclusion.\n",
        "\n",
        "----------------\n",
        "**Your answer here:**\n",
        "\n",
        "----------------"
      ]
    },
    {
      "cell_type": "code",
      "execution_count": 118,
      "metadata": {},
      "outputs": [],
      "source": [
        "# Your code here\n",
        "\n"
      ]
    }
  ],
  "metadata": {
    "colab": {
      "authorship_tag": "ABX9TyOEIcgdHfyD4yGF2Q4D7WMS",
      "include_colab_link": true,
      "provenance": []
    },
    "kernelspec": {
      "display_name": "base",
      "language": "python",
      "name": "python3"
    },
    "language_info": {
      "codemirror_mode": {
        "name": "ipython",
        "version": 3
      },
      "file_extension": ".py",
      "mimetype": "text/x-python",
      "name": "python",
      "nbconvert_exporter": "python",
      "pygments_lexer": "ipython3",
      "version": "3.9.13"
    },
    "vscode": {
      "interpreter": {
        "hash": "e31d8529818713d98a38061e476a303cb7aebfe46db2981fe05de46bbfa528ef"
      }
    }
  },
  "nbformat": 4,
  "nbformat_minor": 0
}
